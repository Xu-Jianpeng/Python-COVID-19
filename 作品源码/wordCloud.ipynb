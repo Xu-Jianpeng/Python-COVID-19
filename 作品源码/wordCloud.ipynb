{
 "cells": [
  {
   "cell_type": "code",
   "execution_count": 1,
   "metadata": {
    "scrolled": true
   },
   "outputs": [],
   "source": [
    "import numpy as np\n",
    "import pandas as pd\n",
    "import matplotlib.pyplot as plt\n",
    "Rumordata = pd.read_csv(\"csv/DXYRumors.csv\")\n",
    "Rumordata = pd.DataFrame(Rumordata)\n",
    "Rumordata1 = Rumordata.drop(['_id','mainSummary','summary','sourceUrl'],axis=1)\n",
    "# data1['body'][42]=\"网传消息称武汉病毒所毕业生黄燕玲是所谓最早感染新冠病毒的零号病人。中国科学院武汉病毒研究所16日发声明：黄燕玲同学于2015年在我所毕业获得硕士学位，在学期间的研究内容为噬菌体裂解酶的功能及抗菌广谱性，毕业后一直在其他省份工作生活，未曾回过武汉，未曾被2019新型冠状病毒感染，身体健康。\"\n",
    "# data1.index=data1['id']\n",
    "# data2 = data1.drop(['id'],axis=1)\n",
    "# data2.sort_values(by='id')\n",
    "# Rumordata1"
   ]
  },
  {
   "cell_type": "code",
   "execution_count": 2,
   "metadata": {
    "scrolled": true
   },
   "outputs": [],
   "source": [
    "attr=Rumordata1['title']\n",
    "values=Rumordata1['body']\n",
    "z = list(zip(attr,values))\n",
    "# print(z)\n",
    "for i in range(283):\n",
    "    k=len(values[i])\n",
    "#     print(values[i][0:k])\n",
    "# attr[6]"
   ]
  },
  {
   "cell_type": "code",
   "execution_count": 3,
   "metadata": {},
   "outputs": [],
   "source": [
    "file_handle = open('Rumor.txt', 'w',encoding='utf-8')\n",
    "file_handle.write(\"title\"+\"+\"+\"body\"+'\\n') # 写列名\n",
    "for i in range(283):\n",
    "    serise = attr[i]  # 每个元素都是字符串，使用逗号分割拼接成一个字符串\n",
    "    file_handle.write(serise+'\\n') # 末尾使用换行分割每一行。\n",
    "file_handle.close()"
   ]
  },
  {
   "cell_type": "code",
   "execution_count": 6,
   "metadata": {},
   "outputs": [],
   "source": [
    "import jieba\n",
    "import matplotlib as mpl\n",
    "import matplotlib.pyplot as plt\n",
    "import collections\n",
    "\n",
    "#定义一个空字符串\n",
    "final = []\n",
    "#文件夹位置\n",
    "filename = r\"Rumor.txt\"\n",
    "\n",
    "remove_words = ['新冠','肺炎','疫情','病毒','?','？','9','60','30','56','吗','的','15','121','上','要','带','者','系','都','林','6','24','84','口罩','确诊','杀灭','用','多','在','感染','能','+','-','通过','能够','着','!','！'] # 自定义去除词库\n",
    "\n",
    "#打开文件夹，读取内容，并进行分词\n",
    "with open(filename,'r',encoding = 'utf-8') as f:\n",
    "    for line in f.readlines():\n",
    "        word = jieba.cut(line)\n",
    "        for i in word:\n",
    "            if i not in remove_words:\n",
    "                final.append(i)\n",
    "word_counts = collections.Counter(final) # 对分词做词频统计\n",
    "word_counts = word_counts.items()\n",
    "# word_counts"
   ]
  },
  {
   "cell_type": "code",
   "execution_count": null,
   "metadata": {},
   "outputs": [],
   "source": [
    "# from wordcloud import WordCloud\n",
    "# import wordcloud\n",
    "# from imageio import imread\n",
    "# from PIL import Image\n",
    "# color_mask = np.array(Image.open('virus1.jpg'))\n",
    "# word_pic = WordCloud(font_path = r'C:\\Windows\\Fonts\\simkai.ttf',width=3000,height=2250,max_words=100,max_font_size=500,collocations=False,background_color=\"white\",mask=color_mask)\n",
    "# word_pic.generate_from_frequencies(word_counts)\n",
    "# image_colors = wordcloud.ImageColorGenerator(color_mask)\n",
    "# word_pic.recolor(color_func = image_colors)\n",
    "# word_pic.to_file('DXYRumors.jpg')\n",
    "\n",
    "# plt.imshow(word_pic)\n",
    "# #去掉坐标轴\n",
    "# plt.axis('off')\n",
    "# #保存图片到相应文件夹\n",
    "# plt.savefig(r'6.png')\n",
    "# plt.show()"
   ]
  },
  {
   "cell_type": "code",
   "execution_count": 15,
   "metadata": {},
   "outputs": [],
   "source": [
    "import json\n",
    "from PIL import Image\n",
    "\n",
    "from pyecharts import options as opts\n",
    "from pyecharts.charts import WordCloud\n",
    "\n",
    "#with open(\"wordcloud_image_base64.json\", \"r\", encoding=\"utf-8\") as f:\n",
    " #   j = json.load(f)\n",
    "\n",
    "c1 = (\n",
    "    WordCloud()\n",
    "    .add(\"\", word_counts, word_size_range=[12, 200], mask_image='virus1.jpg',word_gap=0)\n",
    "    .set_global_opts(title_opts=opts.TitleOpts(title=\"WordCloud-自定义图片\"))\n",
    "#     .render(\"wordcloud_custom_mask_image.html\")\n",
    ")\n"
   ]
  },
  {
   "cell_type": "code",
   "execution_count": 8,
   "metadata": {},
   "outputs": [
    {
     "name": "stderr",
     "output_type": "stream",
     "text": [
      "IOPub data rate exceeded.\n",
      "The notebook server will temporarily stop sending output\n",
      "to the client in order to avoid crashing it.\n",
      "To change this limit, set the config variable\n",
      "`--NotebookApp.iopub_data_rate_limit`.\n",
      "\n",
      "Current values:\n",
      "NotebookApp.iopub_data_rate_limit=1000000.0 (bytes/sec)\n",
      "NotebookApp.rate_limit_window=3.0 (secs)\n",
      "\n"
     ]
    },
    {
     "name": "stdout",
     "output_type": "stream",
     "text": [
      "\n",
      "词频统计结果：\n",
      "疫情:20996\n",
      "防控:15578\n",
      "组织:10487\n",
      "工作:10280\n",
      "社会:9822\n",
      "协会:5888\n",
      "捐赠:5876\n",
      "企业:5562\n",
      "服务:5185\n",
      "万元:4269\n",
      "Over write file!\n"
     ]
    }
   ],
   "source": [
    "# coding=utf-8\n",
    "import jieba\n",
    "import re\n",
    "import time\n",
    "from collections import Counter\n",
    "\n",
    "#------------------------------------中文分词------------------------------------\n",
    "cut_words = \"\"\n",
    "all_words = \"\"\n",
    "f = open('C-class-fenci.txt', 'w')\n",
    "for line in open('C-class.txt', encoding='utf-8'):\n",
    "    line.strip('\\n')\n",
    "    seg_list = jieba.cut(line,cut_all=False)\n",
    "    # print(\" \".join(seg_list))\n",
    "    cut_words = (\" \".join(seg_list))\n",
    "    f.write(cut_words)\n",
    "    all_words += cut_words\n",
    "else:\n",
    "    f.close()\n",
    "\n",
    "# 输出结果\n",
    "all_words = all_words.split()\n",
    "print(all_words)\n",
    "\n",
    "# 词频统计\n",
    "c = Counter()\n",
    "for x in all_words:\n",
    "    if len(x)>1 and x != '\\r\\n':\n",
    "        c[x] += 1\n",
    "\n",
    "# 输出词频最高的前10个词\n",
    "print('\\n词频统计结果：')\n",
    "for (k,v) in c.most_common(10):\n",
    "    print(\"%s:%d\"%(k,v))\n",
    "\n",
    "# 存储数据\n",
    "name = time.strftime(\"%Y-%m-%d\") + \"-fc.csv\"\n",
    "fw = open(name, 'w', encoding='utf-8')\n",
    "i = 1\n",
    "for (k,v) in c.most_common(len(c)):\n",
    "    fw.write(str(i)+','+str(k)+','+str(v)+'\\n')\n",
    "    i = i + 1\n",
    "else:\n",
    "    print(\"Over write file!\")\n",
    "    fw.close()\n"
   ]
  },
  {
   "cell_type": "code",
   "execution_count": 9,
   "metadata": {},
   "outputs": [
    {
     "name": "stderr",
     "output_type": "stream",
     "text": [
      "IOPub data rate exceeded.\n",
      "The notebook server will temporarily stop sending output\n",
      "to the client in order to avoid crashing it.\n",
      "To change this limit, set the config variable\n",
      "`--NotebookApp.iopub_data_rate_limit`.\n",
      "\n",
      "Current values:\n",
      "NotebookApp.iopub_data_rate_limit=1000000.0 (bytes/sec)\n",
      "NotebookApp.rate_limit_window=3.0 (secs)\n",
      "\n"
     ]
    },
    {
     "name": "stdout",
     "output_type": "stream",
     "text": [
      "\n",
      "词频统计结果：\n",
      "疫情:20996\n",
      "防控:15578\n",
      "组织:10487\n",
      "工作:10280\n",
      "社会:9822\n",
      "协会:5888\n",
      "捐赠:5876\n",
      "企业:5562\n",
      "服务:5185\n",
      "万元:4269\n",
      "Over write file!\n"
     ]
    }
   ],
   "source": [
    "# coding=utf-8\n",
    "import jieba\n",
    "import re\n",
    "import time\n",
    "from PIL import Image as image\n",
    "from collections import Counter\n",
    "import numpy as np\n",
    "#------------------------------------中文分词------------------------------------\n",
    "cut_words = \"\"\n",
    "all_words = \"\"\n",
    "f = open('C-class-fenci.txt', 'w')\n",
    "for line in open('C-class.txt', encoding='utf-8'):\n",
    "    line.strip('\\n')\n",
    "    seg_list = jieba.cut(line,cut_all=False)\n",
    "    # print(\" \".join(seg_list))\n",
    "    cut_words = (\" \".join(seg_list))\n",
    "    f.write(cut_words)\n",
    "    all_words += cut_words\n",
    "else:\n",
    "    f.close()\n",
    "\n",
    "# 输出结果\n",
    "all_words = all_words.split()\n",
    "print(all_words)\n",
    "\n",
    "# 词频统计\n",
    "c = Counter()\n",
    "for x in all_words:\n",
    "    if len(x)>1 and x != '\\r\\n':\n",
    "        c[x] += 1\n",
    "\n",
    "# 输出词频最高的前10个词\n",
    "print('\\n词频统计结果：')\n",
    "for (k,v) in c.most_common(10):\n",
    "    print(\"%s:%d\"%(k,v))\n",
    "\n",
    "# 存储数据\n",
    "name = time.strftime(\"%Y-%m-%d\") + \"-fc.csv\"\n",
    "fw = open(name, 'w', encoding='utf-8')\n",
    "i = 1\n",
    "for (k,v) in c.most_common(len(c)):\n",
    "    fw.write(str(i)+','+str(k)+','+str(v)+'\\n')\n",
    "    i = i + 1\n",
    "else:\n",
    "    print(\"Over write file!\")\n",
    "    fw.close()\n",
    "\n",
    "\n",
    "#------------------------------------词云分析------------------------------------\n",
    "from pyecharts import options as opts\n",
    "from pyecharts.charts import WordCloud\n",
    "from pyecharts.globals import SymbolType\n",
    "\n",
    "# 生成数据 word = [('A',10), ('B',9), ('C',8)] 列表+Tuple\n",
    "words = []\n",
    "for (k,v) in c.most_common(1000):\n",
    "    # print(k, v)\n",
    "    words.append((k,v))\n",
    "\n",
    "# 渲染图\n",
    "mask = np.array(image.open(\"china.jpg\"))\n",
    "c2 = (\n",
    "    WordCloud()\n",
    "    .add(\"\", words, word_size_range=[5, 80], mask_image = \"china.jpg\",word_gap=0,pos_left='0px',pos_top='10px',width='600px',height='700px')\n",
    "    .set_global_opts(title_opts=opts.TitleOpts(title='全国新型冠状病毒疫情词云图')) \n",
    "#     .render('疫情词云图.html')\n",
    ")"
   ]
  },
  {
   "cell_type": "code",
   "execution_count": 24,
   "metadata": {},
   "outputs": [
    {
     "data": {
      "text/plain": [
       "'C:\\\\Users\\\\Administrator\\\\词云图.html'"
      ]
     },
     "execution_count": 24,
     "metadata": {},
     "output_type": "execute_result"
    }
   ],
   "source": [
    "from pyecharts.charts import Page\n",
    "grid=(\n",
    "    Page(layout=Page.SimplePageLayout)\n",
    "    .add(c1,c2)\n",
    ")\n",
    "grid.render(\"词云图.html\")"
   ]
  }
 ],
 "metadata": {
  "kernelspec": {
   "display_name": "Python 3",
   "language": "python",
   "name": "python3"
  },
  "language_info": {
   "codemirror_mode": {
    "name": "ipython",
    "version": 3
   },
   "file_extension": ".py",
   "mimetype": "text/x-python",
   "name": "python",
   "nbconvert_exporter": "python",
   "pygments_lexer": "ipython3",
   "version": "3.7.3"
  }
 },
 "nbformat": 4,
 "nbformat_minor": 2
}
